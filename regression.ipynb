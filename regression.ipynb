{
  "cells": [
    {
      "cell_type": "markdown",
      "id": "43791460-1462-4874-9cec-dd9e193f3d5a",
      "metadata": {
        "id": "43791460-1462-4874-9cec-dd9e193f3d5a"
      },
      "source": [
        "[![Open In Colab](https://colab.research.google.com/assets/colab-badge.svg)](https://colab.research.google.com/github/edting/historical-price-analysis/blob/master/regression.ipynb)"
      ]
    },
    {
      "cell_type": "code",
      "source": [
        "# Option #1: Fetch data file from GitHub\n",
        "!curl --remote-name -H 'Accept: application/vnd.github.v3.raw' --location https://raw.githubusercontent.com/edting/historical-price-analysis/refs/heads/master/data/vgs.csv\n",
        "input_file = 'vgs.csv'"
      ],
      "metadata": {
        "id": "GvDVZmUvIdTQ",
        "outputId": "f11de5ba-ef39-4215-a40b-adbe45944935",
        "colab": {
          "base_uri": "https://localhost:8080/"
        }
      },
      "id": "GvDVZmUvIdTQ",
      "execution_count": 1,
      "outputs": [
        {
          "output_type": "stream",
          "name": "stdout",
          "text": [
            "  % Total    % Received % Xferd  Average Speed   Time    Time     Time  Current\n",
            "                                 Dload  Upload   Total   Spent    Left  Speed\n",
            "100  8795  100  8795    0     0  15097      0 --:--:-- --:--:-- --:--:-- 15111\n"
          ]
        }
      ]
    },
    {
      "cell_type": "code",
      "source": [
        "# # Option #2: Clone the GitHub repository\n",
        "# !git clone https://github.com/edting/historical-price-analysis.git\n",
        "\n",
        "# import sys\n",
        "# sys.path.insert(0,'/content/historical-price-analysis')\n",
        "# input_file = 'historical-price-analysis/data/vgs.csv'\n",
        "# # %pip install mplfinance  #install any packages needed\n",
        "# # from python import utils #import functions from the cloned repo"
      ],
      "metadata": {
        "id": "8MH7WofBCH48"
      },
      "id": "8MH7WofBCH48",
      "execution_count": 2,
      "outputs": []
    },
    {
      "cell_type": "code",
      "execution_count": 3,
      "id": "531a0df7-7226-4f15-90e7-301d09974418",
      "metadata": {
        "id": "531a0df7-7226-4f15-90e7-301d09974418"
      },
      "outputs": [],
      "source": [
        "import os\n",
        "import datetime\n",
        "import numpy as np\n",
        "import pandas as pd\n",
        "import matplotlib.pyplot as plt\n",
        "import seaborn as sns\n",
        "import tensorflow as tf"
      ]
    },
    {
      "cell_type": "code",
      "execution_count": 4,
      "id": "ccf5184b-76ea-422b-a802-d20fec9055f0",
      "metadata": {
        "id": "ccf5184b-76ea-422b-a802-d20fec9055f0",
        "outputId": "a4b890f8-9e2f-4ea8-9ab9-a32c77d8fb4b",
        "colab": {
          "base_uri": "https://localhost:8080/",
          "height": 206
        }
      },
      "outputs": [
        {
          "output_type": "execute_result",
          "data": {
            "text/plain": [
              "      Price    Open    High     Low      Vol.  Change %\n",
              "129  139.62  140.30  140.30  139.01   92760.0     -0.34\n",
              "128  138.87  139.62  139.78  138.87   72920.0     -0.54\n",
              "127  140.07  140.16  140.48  139.58   92940.0      0.86\n",
              "126  140.07  140.66  140.87  139.97  187270.0      0.00\n",
              "125  139.77  140.00  140.07  139.32  122860.0     -0.21"
            ],
            "text/html": [
              "\n",
              "  <div id=\"df-ff2cb85a-8bdf-401c-b532-638b399adff9\" class=\"colab-df-container\">\n",
              "    <div>\n",
              "<style scoped>\n",
              "    .dataframe tbody tr th:only-of-type {\n",
              "        vertical-align: middle;\n",
              "    }\n",
              "\n",
              "    .dataframe tbody tr th {\n",
              "        vertical-align: top;\n",
              "    }\n",
              "\n",
              "    .dataframe thead th {\n",
              "        text-align: right;\n",
              "    }\n",
              "</style>\n",
              "<table border=\"1\" class=\"dataframe\">\n",
              "  <thead>\n",
              "    <tr style=\"text-align: right;\">\n",
              "      <th></th>\n",
              "      <th>Price</th>\n",
              "      <th>Open</th>\n",
              "      <th>High</th>\n",
              "      <th>Low</th>\n",
              "      <th>Vol.</th>\n",
              "      <th>Change %</th>\n",
              "    </tr>\n",
              "  </thead>\n",
              "  <tbody>\n",
              "    <tr>\n",
              "      <th>129</th>\n",
              "      <td>139.62</td>\n",
              "      <td>140.30</td>\n",
              "      <td>140.30</td>\n",
              "      <td>139.01</td>\n",
              "      <td>92760.0</td>\n",
              "      <td>-0.34</td>\n",
              "    </tr>\n",
              "    <tr>\n",
              "      <th>128</th>\n",
              "      <td>138.87</td>\n",
              "      <td>139.62</td>\n",
              "      <td>139.78</td>\n",
              "      <td>138.87</td>\n",
              "      <td>72920.0</td>\n",
              "      <td>-0.54</td>\n",
              "    </tr>\n",
              "    <tr>\n",
              "      <th>127</th>\n",
              "      <td>140.07</td>\n",
              "      <td>140.16</td>\n",
              "      <td>140.48</td>\n",
              "      <td>139.58</td>\n",
              "      <td>92940.0</td>\n",
              "      <td>0.86</td>\n",
              "    </tr>\n",
              "    <tr>\n",
              "      <th>126</th>\n",
              "      <td>140.07</td>\n",
              "      <td>140.66</td>\n",
              "      <td>140.87</td>\n",
              "      <td>139.97</td>\n",
              "      <td>187270.0</td>\n",
              "      <td>0.00</td>\n",
              "    </tr>\n",
              "    <tr>\n",
              "      <th>125</th>\n",
              "      <td>139.77</td>\n",
              "      <td>140.00</td>\n",
              "      <td>140.07</td>\n",
              "      <td>139.32</td>\n",
              "      <td>122860.0</td>\n",
              "      <td>-0.21</td>\n",
              "    </tr>\n",
              "  </tbody>\n",
              "</table>\n",
              "</div>\n",
              "    <div class=\"colab-df-buttons\">\n",
              "\n",
              "  <div class=\"colab-df-container\">\n",
              "    <button class=\"colab-df-convert\" onclick=\"convertToInteractive('df-ff2cb85a-8bdf-401c-b532-638b399adff9')\"\n",
              "            title=\"Convert this dataframe to an interactive table.\"\n",
              "            style=\"display:none;\">\n",
              "\n",
              "  <svg xmlns=\"http://www.w3.org/2000/svg\" height=\"24px\" viewBox=\"0 -960 960 960\">\n",
              "    <path d=\"M120-120v-720h720v720H120Zm60-500h600v-160H180v160Zm220 220h160v-160H400v160Zm0 220h160v-160H400v160ZM180-400h160v-160H180v160Zm440 0h160v-160H620v160ZM180-180h160v-160H180v160Zm440 0h160v-160H620v160Z\"/>\n",
              "  </svg>\n",
              "    </button>\n",
              "\n",
              "  <style>\n",
              "    .colab-df-container {\n",
              "      display:flex;\n",
              "      gap: 12px;\n",
              "    }\n",
              "\n",
              "    .colab-df-convert {\n",
              "      background-color: #E8F0FE;\n",
              "      border: none;\n",
              "      border-radius: 50%;\n",
              "      cursor: pointer;\n",
              "      display: none;\n",
              "      fill: #1967D2;\n",
              "      height: 32px;\n",
              "      padding: 0 0 0 0;\n",
              "      width: 32px;\n",
              "    }\n",
              "\n",
              "    .colab-df-convert:hover {\n",
              "      background-color: #E2EBFA;\n",
              "      box-shadow: 0px 1px 2px rgba(60, 64, 67, 0.3), 0px 1px 3px 1px rgba(60, 64, 67, 0.15);\n",
              "      fill: #174EA6;\n",
              "    }\n",
              "\n",
              "    .colab-df-buttons div {\n",
              "      margin-bottom: 4px;\n",
              "    }\n",
              "\n",
              "    [theme=dark] .colab-df-convert {\n",
              "      background-color: #3B4455;\n",
              "      fill: #D2E3FC;\n",
              "    }\n",
              "\n",
              "    [theme=dark] .colab-df-convert:hover {\n",
              "      background-color: #434B5C;\n",
              "      box-shadow: 0px 1px 3px 1px rgba(0, 0, 0, 0.15);\n",
              "      filter: drop-shadow(0px 1px 2px rgba(0, 0, 0, 0.3));\n",
              "      fill: #FFFFFF;\n",
              "    }\n",
              "  </style>\n",
              "\n",
              "    <script>\n",
              "      const buttonEl =\n",
              "        document.querySelector('#df-ff2cb85a-8bdf-401c-b532-638b399adff9 button.colab-df-convert');\n",
              "      buttonEl.style.display =\n",
              "        google.colab.kernel.accessAllowed ? 'block' : 'none';\n",
              "\n",
              "      async function convertToInteractive(key) {\n",
              "        const element = document.querySelector('#df-ff2cb85a-8bdf-401c-b532-638b399adff9');\n",
              "        const dataTable =\n",
              "          await google.colab.kernel.invokeFunction('convertToInteractive',\n",
              "                                                    [key], {});\n",
              "        if (!dataTable) return;\n",
              "\n",
              "        const docLinkHtml = 'Like what you see? Visit the ' +\n",
              "          '<a target=\"_blank\" href=https://colab.research.google.com/notebooks/data_table.ipynb>data table notebook</a>'\n",
              "          + ' to learn more about interactive tables.';\n",
              "        element.innerHTML = '';\n",
              "        dataTable['output_type'] = 'display_data';\n",
              "        await google.colab.output.renderOutput(dataTable, element);\n",
              "        const docLink = document.createElement('div');\n",
              "        docLink.innerHTML = docLinkHtml;\n",
              "        element.appendChild(docLink);\n",
              "      }\n",
              "    </script>\n",
              "  </div>\n",
              "\n",
              "\n",
              "    <div id=\"df-cccee990-e09c-4d4d-bfad-090d9c648d6a\">\n",
              "      <button class=\"colab-df-quickchart\" onclick=\"quickchart('df-cccee990-e09c-4d4d-bfad-090d9c648d6a')\"\n",
              "                title=\"Suggest charts\"\n",
              "                style=\"display:none;\">\n",
              "\n",
              "<svg xmlns=\"http://www.w3.org/2000/svg\" height=\"24px\"viewBox=\"0 0 24 24\"\n",
              "     width=\"24px\">\n",
              "    <g>\n",
              "        <path d=\"M19 3H5c-1.1 0-2 .9-2 2v14c0 1.1.9 2 2 2h14c1.1 0 2-.9 2-2V5c0-1.1-.9-2-2-2zM9 17H7v-7h2v7zm4 0h-2V7h2v10zm4 0h-2v-4h2v4z\"/>\n",
              "    </g>\n",
              "</svg>\n",
              "      </button>\n",
              "\n",
              "<style>\n",
              "  .colab-df-quickchart {\n",
              "      --bg-color: #E8F0FE;\n",
              "      --fill-color: #1967D2;\n",
              "      --hover-bg-color: #E2EBFA;\n",
              "      --hover-fill-color: #174EA6;\n",
              "      --disabled-fill-color: #AAA;\n",
              "      --disabled-bg-color: #DDD;\n",
              "  }\n",
              "\n",
              "  [theme=dark] .colab-df-quickchart {\n",
              "      --bg-color: #3B4455;\n",
              "      --fill-color: #D2E3FC;\n",
              "      --hover-bg-color: #434B5C;\n",
              "      --hover-fill-color: #FFFFFF;\n",
              "      --disabled-bg-color: #3B4455;\n",
              "      --disabled-fill-color: #666;\n",
              "  }\n",
              "\n",
              "  .colab-df-quickchart {\n",
              "    background-color: var(--bg-color);\n",
              "    border: none;\n",
              "    border-radius: 50%;\n",
              "    cursor: pointer;\n",
              "    display: none;\n",
              "    fill: var(--fill-color);\n",
              "    height: 32px;\n",
              "    padding: 0;\n",
              "    width: 32px;\n",
              "  }\n",
              "\n",
              "  .colab-df-quickchart:hover {\n",
              "    background-color: var(--hover-bg-color);\n",
              "    box-shadow: 0 1px 2px rgba(60, 64, 67, 0.3), 0 1px 3px 1px rgba(60, 64, 67, 0.15);\n",
              "    fill: var(--button-hover-fill-color);\n",
              "  }\n",
              "\n",
              "  .colab-df-quickchart-complete:disabled,\n",
              "  .colab-df-quickchart-complete:disabled:hover {\n",
              "    background-color: var(--disabled-bg-color);\n",
              "    fill: var(--disabled-fill-color);\n",
              "    box-shadow: none;\n",
              "  }\n",
              "\n",
              "  .colab-df-spinner {\n",
              "    border: 2px solid var(--fill-color);\n",
              "    border-color: transparent;\n",
              "    border-bottom-color: var(--fill-color);\n",
              "    animation:\n",
              "      spin 1s steps(1) infinite;\n",
              "  }\n",
              "\n",
              "  @keyframes spin {\n",
              "    0% {\n",
              "      border-color: transparent;\n",
              "      border-bottom-color: var(--fill-color);\n",
              "      border-left-color: var(--fill-color);\n",
              "    }\n",
              "    20% {\n",
              "      border-color: transparent;\n",
              "      border-left-color: var(--fill-color);\n",
              "      border-top-color: var(--fill-color);\n",
              "    }\n",
              "    30% {\n",
              "      border-color: transparent;\n",
              "      border-left-color: var(--fill-color);\n",
              "      border-top-color: var(--fill-color);\n",
              "      border-right-color: var(--fill-color);\n",
              "    }\n",
              "    40% {\n",
              "      border-color: transparent;\n",
              "      border-right-color: var(--fill-color);\n",
              "      border-top-color: var(--fill-color);\n",
              "    }\n",
              "    60% {\n",
              "      border-color: transparent;\n",
              "      border-right-color: var(--fill-color);\n",
              "    }\n",
              "    80% {\n",
              "      border-color: transparent;\n",
              "      border-right-color: var(--fill-color);\n",
              "      border-bottom-color: var(--fill-color);\n",
              "    }\n",
              "    90% {\n",
              "      border-color: transparent;\n",
              "      border-bottom-color: var(--fill-color);\n",
              "    }\n",
              "  }\n",
              "</style>\n",
              "\n",
              "      <script>\n",
              "        async function quickchart(key) {\n",
              "          const quickchartButtonEl =\n",
              "            document.querySelector('#' + key + ' button');\n",
              "          quickchartButtonEl.disabled = true;  // To prevent multiple clicks.\n",
              "          quickchartButtonEl.classList.add('colab-df-spinner');\n",
              "          try {\n",
              "            const charts = await google.colab.kernel.invokeFunction(\n",
              "                'suggestCharts', [key], {});\n",
              "          } catch (error) {\n",
              "            console.error('Error during call to suggestCharts:', error);\n",
              "          }\n",
              "          quickchartButtonEl.classList.remove('colab-df-spinner');\n",
              "          quickchartButtonEl.classList.add('colab-df-quickchart-complete');\n",
              "        }\n",
              "        (() => {\n",
              "          let quickchartButtonEl =\n",
              "            document.querySelector('#df-cccee990-e09c-4d4d-bfad-090d9c648d6a button');\n",
              "          quickchartButtonEl.style.display =\n",
              "            google.colab.kernel.accessAllowed ? 'block' : 'none';\n",
              "        })();\n",
              "      </script>\n",
              "    </div>\n",
              "\n",
              "    </div>\n",
              "  </div>\n"
            ],
            "application/vnd.google.colaboratory.intrinsic+json": {
              "type": "dataframe",
              "variable_name": "vgs",
              "summary": "{\n  \"name\": \"vgs\",\n  \"rows\": 130,\n  \"fields\": [\n    {\n      \"column\": \"Price\",\n      \"properties\": {\n        \"dtype\": \"number\",\n        \"std\": 4.845600587816621,\n        \"min\": 123.16,\n        \"max\": 144.5,\n        \"num_unique_values\": 123,\n        \"samples\": [\n          144.5,\n          134.38,\n          135.0\n        ],\n        \"semantic_type\": \"\",\n        \"description\": \"\"\n      }\n    },\n    {\n      \"column\": \"Open\",\n      \"properties\": {\n        \"dtype\": \"number\",\n        \"std\": 4.761009890339375,\n        \"min\": 123.5,\n        \"max\": 144.82,\n        \"num_unique_values\": 118,\n        \"samples\": [\n          134.22,\n          139.88,\n          140.0\n        ],\n        \"semantic_type\": \"\",\n        \"description\": \"\"\n      }\n    },\n    {\n      \"column\": \"High\",\n      \"properties\": {\n        \"dtype\": \"number\",\n        \"std\": 4.647168786270398,\n        \"min\": 124.92,\n        \"max\": 145.0,\n        \"num_unique_values\": 122,\n        \"samples\": [\n          143.69,\n          134.93,\n          134.7\n        ],\n        \"semantic_type\": \"\",\n        \"description\": \"\"\n      }\n    },\n    {\n      \"column\": \"Low\",\n      \"properties\": {\n        \"dtype\": \"number\",\n        \"std\": 4.964280738420312,\n        \"min\": 122.4,\n        \"max\": 144.5,\n        \"num_unique_values\": 121,\n        \"samples\": [\n          134.47,\n          134.75,\n          139.32\n        ],\n        \"semantic_type\": \"\",\n        \"description\": \"\"\n      }\n    },\n    {\n      \"column\": \"Vol.\",\n      \"properties\": {\n        \"dtype\": \"number\",\n        \"std\": 72819.84945133085,\n        \"min\": 59310.0,\n        \"max\": 465180.0,\n        \"num_unique_values\": 130,\n        \"samples\": [\n          165780.0,\n          173010.0,\n          106220.0\n        ],\n        \"semantic_type\": \"\",\n        \"description\": \"\"\n      }\n    },\n    {\n      \"column\": \"Change %\",\n      \"properties\": {\n        \"dtype\": \"number\",\n        \"std\": 1.1045396216479069,\n        \"min\": -4.9,\n        \"max\": 5.96,\n        \"num_unique_values\": 100,\n        \"samples\": [\n          1.2,\n          -0.28,\n          1.34\n        ],\n        \"semantic_type\": \"\",\n        \"description\": \"\"\n      }\n    }\n  ]\n}"
            }
          },
          "metadata": {},
          "execution_count": 4
        }
      ],
      "source": [
        "vgs = pd.read_csv(input_file)\n",
        "vgs = vgs.iloc[::-1] #csv is in reverse chronological order; invert it\n",
        "vgs['Date'] = pd.to_datetime(vgs['Date'], format='%d/%m/%Y') #convert dates from str to datetime object\n",
        "vgs['Vol.'] = vgs['Vol.'].str.replace('.','').str.replace('K','0').str.replace('M','0000') #convert e.g. 100.00K to 100000\n",
        "vgs['Change %'] = vgs['Change %'].str.replace('%','')\n",
        "vgs = vgs.astype({'Vol.':float, 'Change %':float})\n",
        "vgs.drop('Date', axis=1, inplace=True)\n",
        "\n",
        "vgs.head()"
      ]
    },
    {
      "cell_type": "markdown",
      "source": [
        "### Preprocessing\n",
        "\n",
        "---"
      ],
      "metadata": {
        "id": "fIoN2dmqCbFt"
      },
      "id": "fIoN2dmqCbFt"
    },
    {
      "cell_type": "code",
      "source": [
        "# Ratios to use for training, validation, and testing\n",
        "frac_train = 0.7\n",
        "frac_val = 0.2\n",
        "# frac_test is implicit: 1 - frac_train - frac_val\n",
        "\n",
        "# Split data into training, validation, and testing sets\n",
        "n_data = len(vgs)\n",
        "train_df = vgs[0:int(n_data*frac_train)]\n",
        "val_df = vgs[int(n_data*frac_train):int(n_data*(frac_train+frac_val))]\n",
        "test_df = vgs[int(n_data*(frac_train+frac_val)):]"
      ],
      "metadata": {
        "id": "Gt_Lv706G37M"
      },
      "id": "Gt_Lv706G37M",
      "execution_count": 5,
      "outputs": []
    },
    {
      "cell_type": "code",
      "source": [
        "# Normalise using mean and standard deviation of the training set\n",
        "train_mean = train_df.mean()\n",
        "train_std = train_df.std()\n",
        "train_df = (train_df - train_mean) / train_std\n",
        "val_df = (val_df - train_mean) / train_std\n",
        "test_df = (test_df - train_mean) / train_std"
      ],
      "metadata": {
        "id": "gQYlb8j0Cd9Q"
      },
      "id": "gQYlb8j0Cd9Q",
      "execution_count": 6,
      "outputs": []
    },
    {
      "cell_type": "code",
      "source": [
        "# Visualise the normalised columns\n",
        "df_std = (vgs - train_mean) / train_std\n",
        "df_std = df_std.melt(var_name='Column', value_name='Normalised')\n",
        "plt.figure(figsize=(8,4))\n",
        "ax = sns.violinplot(x='Column', y='Normalised', data=df_std)"
      ],
      "metadata": {
        "colab": {
          "base_uri": "https://localhost:8080/",
          "height": 388
        },
        "id": "c-HEKhJ8CfJu",
        "outputId": "079420ac-d26a-41a6-819b-e71491a9660e"
      },
      "id": "c-HEKhJ8CfJu",
      "execution_count": 7,
      "outputs": [
        {
          "output_type": "display_data",
          "data": {
            "text/plain": [
              "<Figure size 800x400 with 1 Axes>"
            ],
            "image/png": "[encoded data removed]"
          },
          "metadata": {}
        }
      ]
    },
    {
      "cell_type": "markdown",
      "source": [
        "We want to make predictions of feature(s) given a consecutive section of the data.\n",
        "To do this, we will need to first shape the data accordingly,\n",
        "\n",
        "As an example, we basically want to split up our timeseries data like this:\n",
        "\n",
        "    [ a | b | c | d | e | f | g ] -> [ [ a | b | c ] [ e ]\n",
        "                                       [ b | c | d ] [ f ]\n",
        "                                       [ c | d | e ] [ g ] ]\n",
        "\n",
        "The example above corresponds to input_width = 3 (input `[a|b|c]`), shift = 2 (include two additional elements), and label_width = 1 (predict the last element in the window, which is `[e]`)."
      ],
      "metadata": {
        "id": "8XajHueJCobG"
      },
      "id": "8XajHueJCobG"
    },
    {
      "cell_type": "code",
      "source": [
        "# Set parameters for the windows\n",
        "input_width = 4\n",
        "label_width = 1\n",
        "shift = 1\n",
        "window_size = input_width + shift\n",
        "\n",
        "# Number of features available in our data\n",
        "num_features = vgs.shape[1]\n",
        "\n",
        "# Indices of the feature columns\n",
        "column_indices = {name: i for i, name in enumerate(vgs.columns)}\n",
        "\n",
        "# Features to be used as inputs for the model\n",
        "input_features = ['Price', 'Open', 'High', 'Low', 'Vol.', 'Change %']\n",
        "input_feature_indices = [column_indices[name] for name in input_features]\n",
        "\n",
        "# Features to be used as targets for the model\n",
        "label_features = ['Price']\n",
        "label_feature_indices = [column_indices[name] for name in label_features]\n",
        "\n",
        "# This function will split up each window into inputs and labels\n",
        "def split_window(window, input_width=input_width, label_width=label_width, shift=shift):\n",
        "  # Split the window into inputs and labels\n",
        "  input_slice = slice(0, input_width)\n",
        "  label_slice = slice(input_width+shift-label_width, None)\n",
        "  inputs = window[:, input_slice, :]\n",
        "  labels = window[:, label_slice, :]\n",
        "\n",
        "  # Prune off irrelevant features\n",
        "  inputs = tf.stack([inputs[:, :, i] for i in input_feature_indices], axis=-1)\n",
        "  labels = tf.stack([labels[:, :, i] for i in label_feature_indices], axis=-1)\n",
        "\n",
        "  # Slicing doesn't preserve static shape information, so also set the shapes\n",
        "  # manually. This makes the `tf.data.Datasets` easier to inspect.\n",
        "  inputs.set_shape([None, input_width, None])\n",
        "  labels.set_shape([None, label_width, None])\n",
        "\n",
        "  return inputs, labels"
      ],
      "metadata": {
        "id": "9uoPWsLiCfuV"
      },
      "id": "9uoPWsLiCfuV",
      "execution_count": 8,
      "outputs": []
    },
    {
      "cell_type": "code",
      "source": [
        "# Make datasets of sliding windows using Tensorflow's timeseries function\n",
        "train_ds = tf.keras.utils.timeseries_dataset_from_array(\n",
        "    data = np.array(train_df, dtype=np.float32),\n",
        "    targets = None,\n",
        "    sequence_length = window_size,\n",
        "    sequence_stride = 1,\n",
        "    shuffle = True,\n",
        "    batch_size = 32\n",
        ")\n",
        "\n",
        "test_ds = tf.keras.utils.timeseries_dataset_from_array(\n",
        "    data = np.array(test_df, dtype=np.float32),\n",
        "    targets = None,\n",
        "    sequence_length = window_size,\n",
        "    sequence_stride = 1,\n",
        "    shuffle = True,\n",
        "    batch_size = 32\n",
        ")\n",
        "\n",
        "val_ds = tf.keras.utils.timeseries_dataset_from_array(\n",
        "    data = np.array(val_df, dtype=np.float32),\n",
        "    targets = None,\n",
        "    sequence_length = window_size,\n",
        "    sequence_stride = 1,\n",
        "    shuffle = True,\n",
        "    batch_size = 32\n",
        ")\n",
        "\n",
        "# Apply our function to split each window into inputs and labels\n",
        "train_ds = train_ds.map(split_window)\n",
        "test_ds = test_ds.map(split_window)\n",
        "val_ds = val_ds.map(split_window)"
      ],
      "metadata": {
        "id": "alAR3hX6Cq8W"
      },
      "id": "alAR3hX6Cq8W",
      "execution_count": 9,
      "outputs": []
    },
    {
      "cell_type": "code",
      "source": [
        "# Print properties of a dataset\n",
        "val_ds.element_spec\n",
        "\n",
        "# for element in val_ds:\n",
        "#   print(element)\n",
        "\n",
        "for example_inputs, example_labels in train_ds.take(1):\n",
        "  print(f'Inputs shape (batch, time, features): {example_inputs.shape}')\n",
        "  print(f'Labels shape (batch, time, features): {example_labels.shape}')"
      ],
      "metadata": {
        "colab": {
          "base_uri": "https://localhost:8080/"
        },
        "id": "idPVdgCrCte1",
        "outputId": "f22a6e40-92ff-4f6e-fbc8-53f9f2e15f71"
      },
      "id": "idPVdgCrCte1",
      "execution_count": 10,
      "outputs": [
        {
          "output_type": "stream",
          "name": "stdout",
          "text": [
            "Inputs shape (batch, time, features): (32, 4, 6)\n",
            "Labels shape (batch, time, features): (32, 1, 1)\n"
          ]
        }
      ]
    },
    {
      "cell_type": "markdown",
      "source": [
        "### Model definition and fit configuration\n",
        "\n",
        "---"
      ],
      "metadata": {
        "id": "2dZEQf9aEPsd"
      },
      "id": "2dZEQf9aEPsd"
    },
    {
      "cell_type": "code",
      "source": [
        "# Build our model: a recurrent neural network (RNN) with\n",
        "# one Long Short-Term Memory (LSTM) layer and one Dense layer (for now)\n",
        "lstm_model = tf.keras.models.Sequential([\n",
        "    tf.keras.layers.LSTM(32, return_sequences=True),\n",
        "    tf.keras.layers.Dense(units=1)\n",
        "])\n",
        "\n",
        "example = next(iter(train_ds))\n",
        "print('Input shape (batch, time, features):', example[0].shape)\n",
        "print('Label shape (batch, time, features):', example[1].shape)\n",
        "print('Output shape (batch, time, features):', lstm_model(example[0]).shape)"
      ],
      "metadata": {
        "colab": {
          "base_uri": "https://localhost:8080/"
        },
        "id": "po5h1F2yCvIk",
        "outputId": "4b5ea27c-b312-45ce-ed3c-3be5f21b2250"
      },
      "id": "po5h1F2yCvIk",
      "execution_count": 11,
      "outputs": [
        {
          "output_type": "stream",
          "name": "stdout",
          "text": [
            "Input shape (batch, time, features): (32, 4, 6)\n",
            "Label shape (batch, time, features): (32, 1, 1)\n",
            "Output shape (batch, time, features): (32, 4, 1)\n"
          ]
        }
      ]
    },
    {
      "cell_type": "code",
      "source": [
        "# Configure\n",
        "#\n",
        "max_epochs = 20\n",
        "\n",
        "early_stopping = tf.keras.callbacks.EarlyStopping(\n",
        "    monitor = 'val_loss',\n",
        "    patience = 2,\n",
        "    mode = 'min'\n",
        ")\n",
        "\n",
        "lstm_model.compile(\n",
        "    loss = tf.keras.losses.MeanSquaredError(),\n",
        "    optimizer = tf.keras.optimizers.Adam(),\n",
        "    metrics = [tf.keras.metrics.MeanAbsoluteError()]\n",
        ")\n",
        "\n",
        "# Fit\n",
        "#\n",
        "history = lstm_model.fit(\n",
        "    train_ds,\n",
        "    epochs = max_epochs,\n",
        "    validation_data = val_ds,\n",
        "    callbacks = [early_stopping]\n",
        ")"
      ],
      "metadata": {
        "colab": {
          "base_uri": "https://localhost:8080/"
        },
        "id": "yROsHjKsCwgz",
        "outputId": "9114e848-427b-4bfd-cb3f-9cd3c9f5ab64"
      },
      "id": "yROsHjKsCwgz",
      "execution_count": 12,
      "outputs": [
        {
          "output_type": "stream",
          "name": "stdout",
          "text": [
            "Epoch 1/20\n",
            "\u001b[1m3/3\u001b[0m \u001b[32m━━━━━━━━━━━━━━━━━━━━\u001b[0m\u001b[37m\u001b[0m \u001b[1m3s\u001b[0m 181ms/step - loss: 1.0118 - mean_absolute_error: 0.8398 - val_loss: 0.1159 - val_mean_absolute_error: 0.3004\n",
            "Epoch 2/20\n",
            "\u001b[1m3/3\u001b[0m \u001b[32m━━━━━━━━━━━━━━━━━━━━\u001b[0m\u001b[37m\u001b[0m \u001b[1m0s\u001b[0m 42ms/step - loss: 0.9872 - mean_absolute_error: 0.8331 - val_loss: 0.1040 - val_mean_absolute_error: 0.2844\n",
            "Epoch 3/20\n",
            "\u001b[1m3/3\u001b[0m \u001b[32m━━━━━━━━━━━━━━━━━━━━\u001b[0m\u001b[37m\u001b[0m \u001b[1m0s\u001b[0m 60ms/step - loss: 0.8220 - mean_absolute_error: 0.7583 - val_loss: 0.0932 - val_mean_absolute_error: 0.2689\n",
            "Epoch 4/20\n",
            "\u001b[1m3/3\u001b[0m \u001b[32m━━━━━━━━━━━━━━━━━━━━\u001b[0m\u001b[37m\u001b[0m \u001b[1m0s\u001b[0m 54ms/step - loss: 0.8476 - mean_absolute_error: 0.7612 - val_loss: 0.0843 - val_mean_absolute_error: 0.2549\n",
            "Epoch 5/20\n",
            "\u001b[1m3/3\u001b[0m \u001b[32m━━━━━━━━━━━━━━━━━━━━\u001b[0m\u001b[37m\u001b[0m \u001b[1m0s\u001b[0m 42ms/step - loss: 0.7186 - mean_absolute_error: 0.6852 - val_loss: 0.0767 - val_mean_absolute_error: 0.2414\n",
            "Epoch 6/20\n",
            "\u001b[1m3/3\u001b[0m \u001b[32m━━━━━━━━━━━━━━━━━━━━\u001b[0m\u001b[37m\u001b[0m \u001b[1m0s\u001b[0m 41ms/step - loss: 0.7083 - mean_absolute_error: 0.6728 - val_loss: 0.0704 - val_mean_absolute_error: 0.2289\n",
            "Epoch 7/20\n",
            "\u001b[1m3/3\u001b[0m \u001b[32m━━━━━━━━━━━━━━━━━━━━\u001b[0m\u001b[37m\u001b[0m \u001b[1m0s\u001b[0m 39ms/step - loss: 0.6282 - mean_absolute_error: 0.6241 - val_loss: 0.0655 - val_mean_absolute_error: 0.2185\n",
            "Epoch 8/20\n",
            "\u001b[1m3/3\u001b[0m \u001b[32m━━━━━━━━━━━━━━━━━━━━\u001b[0m\u001b[37m\u001b[0m \u001b[1m0s\u001b[0m 50ms/step - loss: 0.5562 - mean_absolute_error: 0.5963 - val_loss: 0.0617 - val_mean_absolute_error: 0.2083\n",
            "Epoch 9/20\n",
            "\u001b[1m3/3\u001b[0m \u001b[32m━━━━━━━━━━━━━━━━━━━━\u001b[0m\u001b[37m\u001b[0m \u001b[1m0s\u001b[0m 54ms/step - loss: 0.5736 - mean_absolute_error: 0.5945 - val_loss: 0.0592 - val_mean_absolute_error: 0.2014\n",
            "Epoch 10/20\n",
            "\u001b[1m3/3\u001b[0m \u001b[32m━━━━━━━━━━━━━━━━━━━━\u001b[0m\u001b[37m\u001b[0m \u001b[1m0s\u001b[0m 42ms/step - loss: 0.4673 - mean_absolute_error: 0.5160 - val_loss: 0.0579 - val_mean_absolute_error: 0.1968\n",
            "Epoch 11/20\n",
            "\u001b[1m3/3\u001b[0m \u001b[32m━━━━━━━━━━━━━━━━━━━━\u001b[0m\u001b[37m\u001b[0m \u001b[1m0s\u001b[0m 41ms/step - loss: 0.3953 - mean_absolute_error: 0.4811 - val_loss: 0.0579 - val_mean_absolute_error: 0.1948\n",
            "Epoch 12/20\n",
            "\u001b[1m3/3\u001b[0m \u001b[32m━━━━━━━━━━━━━━━━━━━━\u001b[0m\u001b[37m\u001b[0m \u001b[1m0s\u001b[0m 41ms/step - loss: 0.4401 - mean_absolute_error: 0.5043 - val_loss: 0.0589 - val_mean_absolute_error: 0.1964\n",
            "Epoch 13/20\n",
            "\u001b[1m3/3\u001b[0m \u001b[32m━━━━━━━━━━━━━━━━━━━━\u001b[0m\u001b[37m\u001b[0m \u001b[1m0s\u001b[0m 41ms/step - loss: 0.4157 - mean_absolute_error: 0.4743 - val_loss: 0.0611 - val_mean_absolute_error: 0.2010\n"
          ]
        }
      ]
    },
    {
      "cell_type": "code",
      "source": [
        "# Check the model performance\n",
        "print('Evaluating on the validation set:')\n",
        "lstm_model.evaluate(val_ds)\n",
        "\n",
        "print('\\nEvaluating on the test set:')\n",
        "lstm_model.evaluate(test_ds)"
      ],
      "metadata": {
        "colab": {
          "base_uri": "https://localhost:8080/"
        },
        "id": "xceFQZpCCx4f",
        "outputId": "097855be-82e3-48fd-c2cd-4e7d5bcb51a9"
      },
      "id": "xceFQZpCCx4f",
      "execution_count": 13,
      "outputs": [
        {
          "output_type": "stream",
          "name": "stdout",
          "text": [
            "Evaluating on the validation set:\n",
            "\u001b[1m1/1\u001b[0m \u001b[32m━━━━━━━━━━━━━━━━━━━━\u001b[0m\u001b[37m\u001b[0m \u001b[1m0s\u001b[0m 59ms/step - loss: 0.0611 - mean_absolute_error: 0.2010\n",
            "\n",
            "Evaluating on the test set:\n",
            "\u001b[1m1/1\u001b[0m \u001b[32m━━━━━━━━━━━━━━━━━━━━\u001b[0m\u001b[37m\u001b[0m \u001b[1m0s\u001b[0m 95ms/step - loss: 0.2301 - mean_absolute_error: 0.4134\n"
          ]
        },
        {
          "output_type": "execute_result",
          "data": {
            "text/plain": [
              "[0.23006992042064667, 0.4134112298488617]"
            ]
          },
          "metadata": {},
          "execution_count": 13
        }
      ]
    },
    {
      "cell_type": "markdown",
      "source": [
        "### Results visualisation\n",
        "\n",
        "---"
      ],
      "metadata": {
        "id": "8bQoSBZREq9b"
      },
      "id": "8bQoSBZREq9b"
    },
    {
      "cell_type": "code",
      "source": [
        "# Define an extended time window for evaluating model performance\n",
        "label_width = 15\n",
        "input_width = 15\n",
        "shift = 1\n",
        "vis_width = input_width + shift\n",
        "input_slice = slice(0, input_width)\n",
        "label_slice = slice(vis_width-label_width, None)\n",
        "input_indices = np.arange(vis_width)[input_slice]\n",
        "label_indices = np.arange(vis_width)[label_slice]\n",
        "\n",
        "vis_ds = tf.keras.utils.timeseries_dataset_from_array(\n",
        "    data = np.array(train_df, dtype=np.float32),\n",
        "    targets = None,\n",
        "    sequence_length = vis_width,\n",
        "    sequence_stride = 1,\n",
        "    shuffle = True,\n",
        "    batch_size = 32\n",
        ")\n",
        "\n",
        "vis_ds = vis_ds.map(lambda x: split_window(x, input_width=input_width, label_width=label_width, shift=shift))\n",
        "vis_input = next(iter(vis_ds))\n",
        "vis_ds.element_spec"
      ],
      "metadata": {
        "colab": {
          "base_uri": "https://localhost:8080/"
        },
        "id": "9QPRfY9gCzB1",
        "outputId": "de887820-481c-4268-aaeb-ffacd0a11185"
      },
      "id": "9QPRfY9gCzB1",
      "execution_count": 14,
      "outputs": [
        {
          "output_type": "execute_result",
          "data": {
            "text/plain": [
              "(TensorSpec(shape=(None, 15, 6), dtype=tf.float32, name=None),\n",
              " TensorSpec(shape=(None, 15, 1), dtype=tf.float32, name=None))"
            ]
          },
          "metadata": {},
          "execution_count": 14
        }
      ]
    },
    {
      "cell_type": "code",
      "source": [
        "# Visualise inputs and labels against the model predictions\n",
        "plt.figure(figsize=(8,4))\n",
        "n_subplots = len(label_feature_indices)\n",
        "for k,idx in enumerate(label_feature_indices):\n",
        "  plt.subplot(n_subplots, 1, k+1)\n",
        "  plt.ylabel(f'{label_features[k]} (normalised)')\n",
        "\n",
        "  # Plot the inputs\n",
        "  plt.plot(input_indices, vis_input[0][k,:,idx], label='Inputs',\n",
        "           marker='.', zorder=-10)\n",
        "\n",
        "  # Plot the labels\n",
        "  plt.scatter(label_indices, vis_input[1][k,:,idx], edgecolors='k',\n",
        "              label='Labels', c='#2ca02c', s=64)\n",
        "\n",
        "  # Plot the model predictions\n",
        "  predictions = lstm_model(vis_input)\n",
        "  plt.scatter(input_indices, predictions[k,:,idx], marker='X',\n",
        "              edgecolors='k', label='Predictions', c='#ff7f0e', s=64)\n",
        "\n",
        "plt.legend()\n",
        "plt.xlabel('Time [days]')"
      ],
      "metadata": {
        "colab": {
          "base_uri": "https://localhost:8080/",
          "height": 405
        },
        "id": "oODwQro2C0Mt",
        "outputId": "8bb639de-c545-4918-9072-2b6ead5624e4"
      },
      "id": "oODwQro2C0Mt",
      "execution_count": 16,
      "outputs": [
        {
          "output_type": "execute_result",
          "data": {
            "text/plain": [
              "Text(0.5, 0, 'Time [days]')"
            ]
          },
          "metadata": {},
          "execution_count": 16
        },
        {
          "output_type": "display_data",
          "data": {
            "text/plain": [
              "<Figure size 800x400 with 1 Axes>"
            ],
            "image/png": "[encoded data removed]"
          },
          "metadata": {}
        }
      ]
    }
  ],
  "metadata": {
    "kernelspec": {
      "display_name": "Python 3 (ipykernel)",
      "language": "python",
      "name": "python3"
    },
    "language_info": {
      "codemirror_mode": {
        "name": "ipython",
        "version": 3
      },
      "file_extension": ".py",
      "mimetype": "text/x-python",
      "name": "python",
      "nbconvert_exporter": "python",
      "pygments_lexer": "ipython3",
      "version": "3.11.2"
    },
    "colab": {
      "provenance": []
    }
  },
  "nbformat": 4,
  "nbformat_minor": 5
}